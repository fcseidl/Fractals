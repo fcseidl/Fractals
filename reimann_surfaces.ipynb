{
 "cells": [
  {
   "cell_type": "code",
   "execution_count": 50,
   "metadata": {},
   "outputs": [],
   "source": [
    "import matplotlib.pyplot as plt\n",
    "from matplotlib import cm\n",
    "from mpl_toolkits.mplot3d import Axes3D\n",
    "import numpy as np"
   ]
  },
  {
   "cell_type": "code",
   "execution_count": 123,
   "metadata": {},
   "outputs": [],
   "source": [
    "# GRAPH OF INVERSE MULTIFUNCTION OF w = z**p/q\n",
    "# TODO: remove connecting wall along negative real axis of w\n",
    "# (except matplotlib is a generally terrible rendering engine so forget it)\n",
    "p = 5\n",
    "q = 2"
   ]
  },
  {
   "cell_type": "code",
   "execution_count": 124,
   "metadata": {},
   "outputs": [],
   "source": [
    "# compute points\n",
    "w_re = np.arange(-7, 7, 0.05)\n",
    "w_im = np.arange(-7, 7, 0.05)\n",
    "w_re, w_im = np.meshgrid(w_re, w_im)\n",
    "w = w_re + w_im * 1j\n",
    "branch = w**(p/q)\n",
    "root_of_unity = np.exp(2 * np.pi * 1j / q)\n",
    "branches = []\n",
    "for i in range(q):\n",
    "    branches.append(branch * root_of_unity**i)"
   ]
  },
  {
   "cell_type": "code",
   "execution_count": 125,
   "metadata": {},
   "outputs": [
    {
     "name": "stdout",
     "output_type": "stream",
     "text": [
      "Using matplotlib backend: MacOSX\n"
     ]
    }
   ],
   "source": [
    "%matplotlib auto"
   ]
  },
  {
   "cell_type": "code",
   "execution_count": 126,
   "metadata": {},
   "outputs": [],
   "source": [
    "# plot surface\n",
    "fig = plt.figure()\n",
    "ax = fig.add_subplot(111, projection='3d')\n",
    "# this color mapping stuff is sorcery to me\n",
    "lo = branch.imag.min()\n",
    "hi = branch.imag.max()\n",
    "norm = plt.Normalize(lo, hi)\n",
    "mp = cm.ScalarMappable(norm=norm, cmap='jet')\n",
    "for i in range(q):\n",
    "    fcolors = mp.to_rgba(branches[i].imag)\n",
    "    pos_surf = ax.plot_surface(w_re, w_im, branches[i].real, facecolors=fcolors, vmin=lo, vmax=hi)\n",
    "    \n",
    "plt.show()"
   ]
  },
  {
   "cell_type": "code",
   "execution_count": 93,
   "metadata": {},
   "outputs": [
    {
     "data": {
      "text/plain": [
       "(-0.4999999999999998+0.8660254037844388j)"
      ]
     },
     "execution_count": 93,
     "metadata": {},
     "output_type": "execute_result"
    }
   ],
   "source": [
    "root_of_unity"
   ]
  },
  {
   "cell_type": "code",
   "execution_count": null,
   "metadata": {},
   "outputs": [],
   "source": []
  }
 ],
 "metadata": {
  "kernelspec": {
   "display_name": "Python 3",
   "language": "python",
   "name": "python3"
  },
  "language_info": {
   "codemirror_mode": {
    "name": "ipython",
    "version": 3
   },
   "file_extension": ".py",
   "mimetype": "text/x-python",
   "name": "python",
   "nbconvert_exporter": "python",
   "pygments_lexer": "ipython3",
   "version": "3.7.6"
  }
 },
 "nbformat": 4,
 "nbformat_minor": 4
}
