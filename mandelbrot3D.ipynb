{
 "cells": [
  {
   "cell_type": "code",
   "execution_count": 1,
   "metadata": {},
   "outputs": [],
   "source": [
    "import matplotlib.pyplot as plt\n",
    "from matplotlib import cm\n",
    "from mpl_toolkits.mplot3d import Axes3D\n",
    "import numpy as np"
   ]
  },
  {
   "cell_type": "code",
   "execution_count": 49,
   "metadata": {},
   "outputs": [],
   "source": [
    "w_re = np.linspace(-2, 2, 200)\n",
    "w_im = np.linspace(-2, 2, 200)\n",
    "w_re, w_im = np.meshgrid(w_re, w_im)\n",
    "w = w_re + w_im * 1j\n",
    "w = w.reshape(-1)"
   ]
  },
  {
   "cell_type": "code",
   "execution_count": 54,
   "metadata": {},
   "outputs": [],
   "source": [
    "UNBOUNDED = np.infty\n",
    "\n",
    "# TODO: when you start caring about performance, don't loop over every point!\n",
    "\n",
    "def map_point(c):\n",
    "    #f = lambda z : z**2 + c    # mandelbrot\n",
    "    f = lambda z : z**2 + (1 - 5**0.5)/2  # julia set\n",
    "    z = c\n",
    "    for _ in range(80):   # arbitrary max iter\n",
    "        if np.abs(z) > 2:\n",
    "            return UNBOUNDED\n",
    "        z = f(z)\n",
    "    return z"
   ]
  },
  {
   "cell_type": "code",
   "execution_count": 55,
   "metadata": {},
   "outputs": [],
   "source": [
    "z = np.array([map_point(c) for c in w])\n",
    "z_re, z_im = z.real, z.imag"
   ]
  },
  {
   "cell_type": "code",
   "execution_count": 56,
   "metadata": {},
   "outputs": [
    {
     "name": "stdout",
     "output_type": "stream",
     "text": [
      "Using matplotlib backend: MacOSX\n"
     ]
    }
   ],
   "source": [
    "%matplotlib auto"
   ]
  },
  {
   "cell_type": "code",
   "execution_count": 57,
   "metadata": {},
   "outputs": [],
   "source": [
    "fig = plt.figure()\n",
    "ax = fig.add_subplot(111, projection='3d')\n",
    "ax.scatter(w.real, w.imag, z_re, c=z_im)#, cmap=plt.get_cmap('hot'))\n",
    "plt.show()"
   ]
  },
  {
   "cell_type": "code",
   "execution_count": null,
   "metadata": {},
   "outputs": [],
   "source": []
  }
 ],
 "metadata": {
  "kernelspec": {
   "display_name": "Python 3",
   "language": "python",
   "name": "python3"
  },
  "language_info": {
   "codemirror_mode": {
    "name": "ipython",
    "version": 3
   },
   "file_extension": ".py",
   "mimetype": "text/x-python",
   "name": "python",
   "nbconvert_exporter": "python",
   "pygments_lexer": "ipython3",
   "version": "3.7.6"
  }
 },
 "nbformat": 4,
 "nbformat_minor": 4
}
