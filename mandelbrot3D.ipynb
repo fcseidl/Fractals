{
 "cells": [
  {
   "cell_type": "code",
   "execution_count": 1,
   "metadata": {},
   "outputs": [],
   "source": [
    "import matplotlib.pyplot as plt\n",
    "from matplotlib import cm\n",
    "from mpl_toolkits.mplot3d import Axes3D\n",
    "import numpy as np\n",
    "from numpy import random"
   ]
  },
  {
   "cell_type": "code",
   "execution_count": 2,
   "metadata": {},
   "outputs": [],
   "source": [
    "w_re = np.linspace(-2, 2, 400)\n",
    "w_im = np.linspace(-2, 2, 400)\n",
    "w_re, w_im = np.meshgrid(w_re, w_im)\n",
    "w = w_re + w_im * 1j\n",
    "w = w.reshape(-1)"
   ]
  },
  {
   "cell_type": "code",
   "execution_count": 15,
   "metadata": {},
   "outputs": [],
   "source": [
    "UNBOUNDED = np.infty\n",
    "\n",
    "# TODO: when you start caring about performance, don't loop over every point!   \n",
    "\n",
    "def rand_sqrt(z):\n",
    "    sqrt = z**0.5\n",
    "    if random.randint(2) == 1:\n",
    "        return sqrt\n",
    "    return -sqrt\n",
    "\n",
    "def map_point(c):\n",
    "    f = lambda z : z**2 + c    # mandelbrot\n",
    "    #f = lambda z : z**2 + .3j  # julia set\n",
    "    #f = lambda z : rand_sqrt(z**5) + c    # random branch\n",
    "    z = c\n",
    "    for _ in range(6):   # max iter should be highly divisible\n",
    "        if np.abs(z) > 2:\n",
    "            return UNBOUNDED\n",
    "        z = f(z)\n",
    "    return z"
   ]
  },
  {
   "cell_type": "code",
   "execution_count": 16,
   "metadata": {},
   "outputs": [],
   "source": [
    "z = np.array([map_point(c) for c in w])\n",
    "z_re, z_im = z.real, z.imag"
   ]
  },
  {
   "cell_type": "code",
   "execution_count": 17,
   "metadata": {},
   "outputs": [
    {
     "name": "stdout",
     "output_type": "stream",
     "text": [
      "Using matplotlib backend: MacOSX\n"
     ]
    }
   ],
   "source": [
    "%matplotlib auto"
   ]
  },
  {
   "cell_type": "code",
   "execution_count": 18,
   "metadata": {},
   "outputs": [],
   "source": [
    "# plot in 3d\n",
    "fig = plt.figure()\n",
    "ax = fig.add_subplot(111, projection='3d')\n",
    "ax.scatter(w.real, w.imag, z_re, c=z_im)#, cmap=plt.get_cmap('hot'))\n",
    "plt.show()"
   ]
  },
  {
   "cell_type": "code",
   "execution_count": 7,
   "metadata": {},
   "outputs": [],
   "source": [
    "%matplotlib inline"
   ]
  },
  {
   "cell_type": "code",
   "execution_count": 8,
   "metadata": {
    "scrolled": true
   },
   "outputs": [
    {
     "data": {
      "image/png": "[encoded data removed]",
      "text/plain": [
       "<Figure size 432x288 with 1 Axes>"
      ]
     },
     "metadata": {
      "needs_background": "light"
     },
     "output_type": "display_data"
    }
   ],
   "source": [
    "# plot 2d projection\n",
    "w_plot = w[z != UNBOUNDED]\n",
    "plt.scatter(w_plot.real, w_plot.imag)\n",
    "plt.show()"
   ]
  },
  {
   "cell_type": "code",
   "execution_count": 6,
   "metadata": {},
   "outputs": [
    {
     "data": {
      "text/plain": [
       "(25600,)"
      ]
     },
     "execution_count": 6,
     "metadata": {},
     "output_type": "execute_result"
    }
   ],
   "source": []
  }
 ],
 "metadata": {
  "kernelspec": {
   "display_name": "Python 3",
   "language": "python",
   "name": "python3"
  },
  "language_info": {
   "codemirror_mode": {
    "name": "ipython",
    "version": 3
   },
   "file_extension": ".py",
   "mimetype": "text/x-python",
   "name": "python",
   "nbconvert_exporter": "python",
   "pygments_lexer": "ipython3",
   "version": "3.7.6"
  }
 },
 "nbformat": 4,
 "nbformat_minor": 4
}
